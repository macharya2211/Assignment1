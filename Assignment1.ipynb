{
  "nbformat": 4,
  "nbformat_minor": 0,
  "metadata": {
    "colab": {
      "provenance": []
    },
    "kernelspec": {
      "name": "python3",
      "display_name": "Python 3"
    },
    "language_info": {
      "name": "python"
    }
  },
  "cells": [
    {
      "cell_type": "markdown",
      "source": [
        "**Python Basics Questions**"
      ],
      "metadata": {
        "id": "RNwFcXnQhhwX"
      }
    },
    {
      "cell_type": "markdown",
      "source": [
        " Q1. What is Python, and why is it popular ?\n",
        " Ans. Python is a programming language which is popular for its simplicity and eay to use\n",
        "\n",
        "\n",
        " Q2. What is an interpreter in Python?\n",
        " Ans. An interpreter is a program that reads and executes Python code line by line\n",
        "\n",
        "\n",
        " Q3. What are pre-defined keywords in Python ?\n",
        " Ans. pre-defined keywords are special identifiers that have specific meanings and purposes within the language's syntax\n",
        "\n",
        "\n",
        " Q4. Can keywords be used as variable names ?\n",
        " Ans. It can be but we will assign python keyword as variable then  it might not perform its own function\n",
        "\n",
        "\n",
        " Q5. What is mutability in Python?\n",
        " Ans. Objects/container whose state or value can be changed after they are created are called as mutable objects or container\n",
        "\n",
        "\n",
        " Q6. Why are lists mutable, but tuples are immutable?\n",
        " Ans. Lists: Mutable. You can change their elements, add, or remove items after creation.\n",
        "Tuples: Immutable. Once created, you cannot change their elements. This\n",
        "immutability makes them useful for storing data that should not be modified\n",
        "\n",
        "\n",
        "Q7. What is the difference between “==” and “is” operators in Python ?\n",
        "Ans. \"==\" is comparison operator and \"is\" identity operator\n",
        "\n",
        "\n",
        "Q8.  What are logical operators in Python?\n",
        "Ans.  logical operators are used to combine or modify boolean values\n",
        "\n",
        "\n",
        "Q9.  What is type casting in Python ?\n",
        "Ans. The process of changing a data type of value of object is known as type casting\n",
        "\n",
        "\n",
        "Q10.  What is the difference between implicit and explicit type casting ?\n",
        "\n",
        "Ans. Implicit Type Casting (Coercion): Python automatically converts data types in certain situations. For example, when adding an integer and a float, Python automatically converts the integer to a float.\n",
        "\n",
        "Explicit Type Casting: You manually convert data types using functions like int(), float(), str(), etc\n",
        "\n",
        "\n",
        "Q.11  What is the purpose of conditional statements in Python\n",
        "Ans. It helps you to code decisions based on some preconditions\n",
        "if\n",
        "if else\n",
        "if elif(elseif) else\n",
        "nested if else\n",
        "\n",
        "\n",
        "Q.12  How does the elif statement work?\n",
        "Ans. elif (short for \"else if\") is used to check multiple conditions sequentially. If the if condition is false, the elif conditions are checked in order. The first elif condition that evaluates to True will have its block of code executed.\n",
        "\n",
        "\n",
        "Q13.  What is the difference between for and while loops?\n",
        "Ans. for Loop: Used to iterate over a sequence (list, tuple, string) or other iterable objects. You know the number of iterations in advance.\n",
        "while Loop: Used to repeatedly execute a block of code as long as a condition is true. You may not know the number of iterations beforehand.\n",
        "\n",
        "\n",
        "Q14.  Describe a scenario where a while loop is more suitable than a for loop?\n",
        "\n",
        "Ans. A while loop is more suitable when you need to repeat a block of code until a certain condition is met, but you don't know how many times the loop will need to run. Example: Reading user input until they enter a specific value: user_input = \"\" while user_input != \"quit\": user_input = input(\"Enter a value (or 'quit' to exit): \")"
      ],
      "metadata": {
        "id": "ELQGztiPhoih"
      }
    },
    {
      "cell_type": "code",
      "source": [],
      "metadata": {
        "id": "hb-PubkkyItt"
      },
      "execution_count": null,
      "outputs": []
    },
    {
      "cell_type": "code",
      "source": [
        "# PRACTICAL QUESTIONS"
      ],
      "metadata": {
        "id": "Pjm6d8_yyHJe"
      },
      "execution_count": null,
      "outputs": []
    },
    {
      "cell_type": "code",
      "source": [
        "# Q1. Write a Python program to print \"Hello, World!\n",
        "print(\"Hello, World!\")"
      ],
      "metadata": {
        "colab": {
          "base_uri": "https://localhost:8080/"
        },
        "id": "xRvKv4XzyHL8",
        "outputId": "814746f1-109a-48bf-9c99-5db1a6a491ba"
      },
      "execution_count": 2,
      "outputs": [
        {
          "output_type": "stream",
          "name": "stdout",
          "text": [
            "Hello, World!\n"
          ]
        }
      ]
    },
    {
      "cell_type": "code",
      "source": [
        "# Q2.  Write a Python program that displays your name and age\n",
        "name = \"Minkel Acharya\"\n",
        "age = 30\n",
        "print(\"Name -\", name)\n",
        "print(\"Age -\", age)"
      ],
      "metadata": {
        "colab": {
          "base_uri": "https://localhost:8080/"
        },
        "id": "G-TigzH6yblJ",
        "outputId": "faae9eee-b906-43e3-b502-3cc803486afe"
      },
      "execution_count": 34,
      "outputs": [
        {
          "output_type": "stream",
          "name": "stdout",
          "text": [
            "Name - Minkel Acharya\n",
            "Age - 30\n"
          ]
        }
      ]
    },
    {
      "cell_type": "code",
      "source": [
        "# Q3.  Write code to print all the pre-defined keywords in Python using the keyword library\n",
        "help('keywords')"
      ],
      "metadata": {
        "colab": {
          "base_uri": "https://localhost:8080/"
        },
        "id": "pw0wXTykzACS",
        "outputId": "f370ad2e-67e6-415f-e5d4-d35de4f94f9e"
      },
      "execution_count": 43,
      "outputs": [
        {
          "output_type": "stream",
          "name": "stdout",
          "text": [
            "\n",
            "Here is a list of the Python keywords.  Enter any keyword to get more help.\n",
            "\n",
            "False               class               from                or\n",
            "None                continue            global              pass\n",
            "True                def                 if                  raise\n",
            "and                 del                 import              return\n",
            "as                  elif                in                  try\n",
            "assert              else                is                  while\n",
            "async               except              lambda              with\n",
            "await               finally             nonlocal            yield\n",
            "break               for                 not                 \n",
            "\n"
          ]
        }
      ]
    },
    {
      "cell_type": "code",
      "source": [
        "# Q4.  Write a program that checks if a given word is a Python keyword\n",
        "import keyword\n",
        "keyword.iskeyword('list')"
      ],
      "metadata": {
        "colab": {
          "base_uri": "https://localhost:8080/"
        },
        "id": "gTLR_0v47LMm",
        "outputId": "192590ca-e204-49ae-d749-e6f85b406fda"
      },
      "execution_count": 149,
      "outputs": [
        {
          "output_type": "execute_result",
          "data": {
            "text/plain": [
              "False"
            ]
          },
          "metadata": {},
          "execution_count": 149
        }
      ]
    },
    {
      "cell_type": "code",
      "source": [
        "# Q6.  Write a function to demonstrate the behavior of mutable and immutable arguments\n",
        "def demonstrate_mutable_immutable(arg1, arg2):\n",
        "    # arg1 is a mutable object (list)\n",
        "    # arg2 is an immutable object (integer)\n",
        "\n",
        "    # Modifying the mutable argument (list)\n",
        "    print(f\"Before modification: arg1 = {arg1}, arg2 = {arg2}\")\n",
        "    arg1.append(100)  # This will modify the original list\n",
        "    arg2 += 5         # This will not affect the original integer, because integers are immutable\n",
        "    print(f\"After modification: arg1 = {arg1}, arg2 = {arg2}\")\n",
        "\n",
        "# Test with mutable and immutable arguments\n",
        "my_list = [1, 2, 3]\n",
        "my_number = 10\n",
        "\n",
        "demonstrate_mutable_immutable(my_list, my_number)\n",
        "\n",
        "# Check the effect on the original arguments outside the function\n",
        "print(f\"Outside the function: my_list = {my_list}, my_number = {my_number}\")\n"
      ],
      "metadata": {
        "colab": {
          "base_uri": "https://localhost:8080/"
        },
        "id": "Alxi9gz99CBB",
        "outputId": "d7521772-20b0-460a-d351-2b3d20f45d93"
      },
      "execution_count": 55,
      "outputs": [
        {
          "output_type": "stream",
          "name": "stdout",
          "text": [
            "Before modification: arg1 = [1, 2, 3], arg2 = 10\n",
            "After modification: arg1 = [1, 2, 3, 100], arg2 = 15\n",
            "Outside the function: my_list = [1, 2, 3, 100], my_number = 10\n"
          ]
        }
      ]
    },
    {
      "cell_type": "code",
      "source": [
        "# Q7.  Write a function to demonstrate the behavior of mutable and immutable arguments\n",
        "def demonstrate_mutable_immutable(arg1, arg2):\n",
        "    # arg1 is a mutable object (list)\n",
        "    # arg2 is an immutable object (integer)\n",
        "\n",
        "    # Modifying the mutable argument (list)\n",
        "    print(f\"Before modification: arg1 = {arg1}, arg2 = {arg2}\")\n",
        "    arg1.append(100)  # This will modify the original list\n",
        "    arg2 += 5         # This will not affect the original integer, because integers are immutable\n",
        "    print(f\"After modification: arg1 = {arg1}, arg2 = {arg2}\")\n",
        "\n",
        "# Test with mutable and immutable arguments\n",
        "my_list = [1, 2, 3]\n",
        "my_number = 10\n",
        "\n",
        "demonstrate_mutable_immutable(my_list, my_number)\n",
        "\n",
        "# Check the effect on the original arguments outside the function\n",
        "print(f\"Outside the function: my_list = {my_list}, my_number = {my_number}\")\n"
      ],
      "metadata": {
        "colab": {
          "base_uri": "https://localhost:8080/"
        },
        "id": "HWeK4wZD-xTy",
        "outputId": "548723c9-79e5-44f7-9563-a40e520533ba"
      },
      "execution_count": 56,
      "outputs": [
        {
          "output_type": "stream",
          "name": "stdout",
          "text": [
            "Before modification: arg1 = [1, 2, 3], arg2 = 10\n",
            "After modification: arg1 = [1, 2, 3, 100], arg2 = 15\n",
            "Outside the function: my_list = [1, 2, 3, 100], my_number = 10\n"
          ]
        }
      ]
    },
    {
      "cell_type": "code",
      "source": [
        " # Q8. Write a program to demonstrate the use of logical operators\n",
        " True & True"
      ],
      "metadata": {
        "colab": {
          "base_uri": "https://localhost:8080/"
        },
        "id": "jgm1Ahpu_CPN",
        "outputId": "19491efc-3f58-4d92-ce18-9ac5c2ec20ff"
      },
      "execution_count": 57,
      "outputs": [
        {
          "output_type": "execute_result",
          "data": {
            "text/plain": [
              "True"
            ]
          },
          "metadata": {},
          "execution_count": 57
        }
      ]
    },
    {
      "cell_type": "code",
      "source": [
        "True or False"
      ],
      "metadata": {
        "colab": {
          "base_uri": "https://localhost:8080/"
        },
        "id": "3pQk_vmpAK-k",
        "outputId": "76ffd2f8-3251-428c-9900-9e4ca5c1b2a5"
      },
      "execution_count": 58,
      "outputs": [
        {
          "output_type": "execute_result",
          "data": {
            "text/plain": [
              "True"
            ]
          },
          "metadata": {},
          "execution_count": 58
        }
      ]
    },
    {
      "cell_type": "code",
      "source": [
        "10 & 10"
      ],
      "metadata": {
        "colab": {
          "base_uri": "https://localhost:8080/"
        },
        "id": "62vA3WOvAOXE",
        "outputId": "df55fad3-7213-4d80-9143-982586f95a36"
      },
      "execution_count": 59,
      "outputs": [
        {
          "output_type": "execute_result",
          "data": {
            "text/plain": [
              "10"
            ]
          },
          "metadata": {},
          "execution_count": 59
        }
      ]
    },
    {
      "cell_type": "code",
      "source": [
        "10 | 10"
      ],
      "metadata": {
        "colab": {
          "base_uri": "https://localhost:8080/"
        },
        "id": "Jbbe1DMrAQRB",
        "outputId": "1b9e3430-b937-47cd-a37f-4248a4544bff"
      },
      "execution_count": 60,
      "outputs": [
        {
          "output_type": "execute_result",
          "data": {
            "text/plain": [
              "10"
            ]
          },
          "metadata": {},
          "execution_count": 60
        }
      ]
    },
    {
      "cell_type": "code",
      "source": [
        "# Q9.  Write a Python program to convert user input from string to integer, float, and boolean types\n",
        "user_input = input(\"enter a value\")"
      ],
      "metadata": {
        "colab": {
          "base_uri": "https://localhost:8080/"
        },
        "id": "B7-7gJiwESub",
        "outputId": "63441060-cef7-4194-d946-d2e551be36ad"
      },
      "execution_count": 106,
      "outputs": [
        {
          "name": "stdout",
          "output_type": "stream",
          "text": [
            "enter a value 5\n"
          ]
        }
      ]
    },
    {
      "cell_type": "code",
      "source": [
        "type(user_input)"
      ],
      "metadata": {
        "colab": {
          "base_uri": "https://localhost:8080/"
        },
        "id": "Ke40CjsxErMz",
        "outputId": "3dabf407-37c4-4df4-9ab6-4578ce5c4d1e"
      },
      "execution_count": 108,
      "outputs": [
        {
          "output_type": "execute_result",
          "data": {
            "text/plain": [
              "str"
            ]
          },
          "metadata": {},
          "execution_count": 108
        }
      ]
    },
    {
      "cell_type": "code",
      "source": [
        "b = int(input(\"enter a value\"))"
      ],
      "metadata": {
        "colab": {
          "base_uri": "https://localhost:8080/"
        },
        "id": "VtA3nYQWFJBu",
        "outputId": "38e05bc4-5b09-44f6-b3cc-f293ba2b794d"
      },
      "execution_count": 112,
      "outputs": [
        {
          "name": "stdout",
          "output_type": "stream",
          "text": [
            "enter a value 5\n"
          ]
        }
      ]
    },
    {
      "cell_type": "code",
      "source": [
        "b"
      ],
      "metadata": {
        "colab": {
          "base_uri": "https://localhost:8080/"
        },
        "id": "rlS_otG-GAxQ",
        "outputId": "c2f9839a-5df8-4f73-a826-88943d72e479"
      },
      "execution_count": 115,
      "outputs": [
        {
          "output_type": "execute_result",
          "data": {
            "text/plain": [
              "5"
            ]
          },
          "metadata": {},
          "execution_count": 115
        }
      ]
    },
    {
      "cell_type": "code",
      "source": [
        "type(b)"
      ],
      "metadata": {
        "colab": {
          "base_uri": "https://localhost:8080/"
        },
        "id": "C6iY40VpGEFa",
        "outputId": "aea90d40-4db0-4e4b-b012-efaa94e042c9"
      },
      "execution_count": 116,
      "outputs": [
        {
          "output_type": "execute_result",
          "data": {
            "text/plain": [
              "int"
            ]
          },
          "metadata": {},
          "execution_count": 116
        }
      ]
    },
    {
      "cell_type": "code",
      "source": [
        "# Q10.  Write code to demonstrate type casting with list elements\n",
        "a = [2, 2.3, \"Ajay\", 3+5j, True]\n",
        "a"
      ],
      "metadata": {
        "colab": {
          "base_uri": "https://localhost:8080/"
        },
        "id": "PXLrkZQJGNXA",
        "outputId": "02ddba46-bebc-4a08-8107-76596f724615"
      },
      "execution_count": 155,
      "outputs": [
        {
          "output_type": "execute_result",
          "data": {
            "text/plain": [
              "[2, 2.3, 'Ajay', (3+5j), True]"
            ]
          },
          "metadata": {},
          "execution_count": 155
        }
      ]
    },
    {
      "cell_type": "code",
      "source": [
        "# Q11.  Write a program that checks if a number is positive, negative, or zero\n",
        "a = int(input(\"Enter a no\"))\n",
        "if a > 0:\n",
        "    print(\"The number is positive\")\n",
        "elif a < 0:\n",
        "    print(\"The number is negative\")\n",
        "else:\n",
        "    print(\"This number is zero\")"
      ],
      "metadata": {
        "colab": {
          "base_uri": "https://localhost:8080/"
        },
        "id": "VQ6kE63mLzlo",
        "outputId": "c53946fc-e61c-4a60-9228-85d87b116fe2"
      },
      "execution_count": 157,
      "outputs": [
        {
          "output_type": "stream",
          "name": "stdout",
          "text": [
            "Enter a no -5\n",
            "The number is negative\n"
          ]
        }
      ]
    },
    {
      "cell_type": "code",
      "source": [
        "# Q.12  Write a for loop to print numbers from 1 to 10\n",
        "for i in range(10):\n",
        "  print(i, end=\" \")"
      ],
      "metadata": {
        "colab": {
          "base_uri": "https://localhost:8080/"
        },
        "id": "uNORb0A9Q0mt",
        "outputId": "d1f19683-79be-4db9-fa9e-d50c7a11877c"
      },
      "execution_count": 161,
      "outputs": [
        {
          "output_type": "stream",
          "name": "stdout",
          "text": [
            "0 1 2 3 4 5 6 7 8 9 "
          ]
        }
      ]
    },
    {
      "cell_type": "code",
      "source": [
        "# Q.13  Write a Python program to find the sum of all even numbers between 1 and 50\n",
        "for i in range(50):\n",
        "  if i%2 != 0:\n",
        "    continue\n",
        "  print(i, end=\" \")"
      ],
      "metadata": {
        "colab": {
          "base_uri": "https://localhost:8080/"
        },
        "id": "mGhm2hYaREyb",
        "outputId": "6ad7bd36-d9d8-4529-cc6a-ce0135370a51"
      },
      "execution_count": 163,
      "outputs": [
        {
          "output_type": "stream",
          "name": "stdout",
          "text": [
            "0 2 4 6 8 10 12 14 16 18 20 22 24 26 28 30 32 34 36 38 40 42 44 46 48 "
          ]
        }
      ]
    },
    {
      "cell_type": "code",
      "source": [
        "# Q. 14  Write a program to reverse a string using a while loop\n",
        "def reverse_string(s):\n",
        "    reversed_str = \"\"\n",
        "    index = len(s) - 1  # Start from the last character\n",
        "    while index >= 0:\n",
        "        reversed_str += s[index]  # Add the current character to the result\n",
        "        index -= 1  # Move to the previous character\n",
        "    return reversed_str\n",
        "\n",
        "# Example usage\n",
        "input_string = \"hello\"\n",
        "result = reverse_string(input_string)\n",
        "print(result)\n"
      ],
      "metadata": {
        "colab": {
          "base_uri": "https://localhost:8080/"
        },
        "id": "rIo6-VUMWLgU",
        "outputId": "e20dc51c-0602-4e78-fa70-1ce53ce103dd"
      },
      "execution_count": 166,
      "outputs": [
        {
          "output_type": "stream",
          "name": "stdout",
          "text": [
            "olleh\n"
          ]
        }
      ]
    },
    {
      "cell_type": "code",
      "source": [],
      "metadata": {
        "id": "EwKrth3IgXyA"
      },
      "execution_count": null,
      "outputs": []
    }
  ]
}